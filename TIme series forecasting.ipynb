{
 "cells": [
  {
   "cell_type": "code",
   "execution_count": null,
   "id": "7a080010-aaa7-4de8-b9f5-f723d12d8de3",
   "metadata": {},
   "outputs": [],
   "source": [
    "import pandas as pd"
   ]
  },
  {
   "cell_type": "code",
   "execution_count": null,
   "id": "14b2392e-ff9a-4195-8fee-c132a03d3366",
   "metadata": {},
   "outputs": [],
   "source": [
    "df1 = pd.read_excel('Pizza_ingredients.xlsx')"
   ]
  },
  {
   "cell_type": "code",
   "execution_count": null,
   "id": "6e0e4543-374c-41d1-b750-415bd038ff40",
   "metadata": {},
   "outputs": [],
   "source": [
    "df2 = pd.read_excel('Pizza_Sale.xlsx')"
   ]
  },
  {
   "cell_type": "code",
   "execution_count": null,
   "id": "63131319-7995-4562-9689-7c305dccbac3",
   "metadata": {},
   "outputs": [],
   "source": [
    "df1"
   ]
  },
  {
   "cell_type": "code",
   "execution_count": null,
   "id": "875e3884-a924-428c-a839-c42941609bc6",
   "metadata": {},
   "outputs": [],
   "source": [
    "df2"
   ]
  },
  {
   "cell_type": "code",
   "execution_count": null,
   "id": "28ba94d5-56f6-4568-a665-77693be936dd",
   "metadata": {},
   "outputs": [],
   "source": []
  }
 ],
 "metadata": {
  "kernelspec": {
   "display_name": "Python 3 (ipykernel)",
   "language": "python",
   "name": "python3"
  },
  "language_info": {
   "codemirror_mode": {
    "name": "ipython",
    "version": 3
   },
   "file_extension": ".py",
   "mimetype": "text/x-python",
   "name": "python",
   "nbconvert_exporter": "python",
   "pygments_lexer": "ipython3",
   "version": "3.12.4"
  }
 },
 "nbformat": 4,
 "nbformat_minor": 5
}
